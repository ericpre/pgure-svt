{
 "cells": [
  {
   "cell_type": "markdown",
   "metadata": {},
   "source": [
    "# PGURE-SVT Demonstration\n",
    "\n",
    "### Tom Furnival ([tjof2@cam.ac.uk](mailto:tjof2@cam.ac.uk))\n",
    "\n",
    "PGURE-SVT is an algorithm designed to denoise image sequences acquired in microscopy. It exploits the correlations between consecutive frames to form low-rank matrices, which are then recovered using a technique known as nuclear norm minimization. An unbiased risk estimator for mixed Poisson-Gaussian noise is used to automate the selection of the regularization parameter, while robust noise and motion estimation maintain broad applicability to many different types of microscopy.\n",
    "\n",
    "You can read more about the algorithm and its applications in:\n",
    "\n",
    "> T Furnival, RK Leary, PA Midgley _\"Denoising time-resolved microscopy sequences with singular value thresholding.\"_ (Article in press). DOI:[10.1016/j.ultramic.2016.05.005](http://dx.doi.org/10.1016/j.ultramic.2016.05.005)\n",
    "\n",
    "The source code and compiled Windows libraries are available to download from [http://tjof2.github.io/pgure-svt/](http://tjof2.github.io/pgure-svt/).\n",
    "\n",
    "### Use with HyperSpy\n",
    "\n",
    "This example notebook shows how PGURE-SVT can be combined with [HyperSpy](http://hyperspy.org), which is an open-source Python library that makes signal handling and processing straightforward in Python, with a friendly API. While you can use `pguresvt.pguresvt.SVT` to denoise a NumPy array directly, `pguresvt.hspysvt.HSPYSVT` can instead denoise a HyperSpy signal."
   ]
  },
  {
   "cell_type": "code",
   "execution_count": null,
   "metadata": {},
   "outputs": [],
   "source": [
    "# Configures the plotting backend\n",
    "%matplotlib qt\n",
    "\n",
    "# Import NumPy and the HyperSpy API\n",
    "import numpy as np\n",
    "import hyperspy.api as hs\n",
    "\n",
    "# Import the HyperSpy wrapper for PGURE-SVT\n",
    "from pguresvt import hspysvt\n",
    "from pguresvt.pguresvt import PoissonGaussianNoiseGenerator"
   ]
  },
  {
   "cell_type": "markdown",
   "metadata": {},
   "source": [
    "## 1. Simulated dataset\n",
    "\n",
    "First, we load the simulated dataset using HyperSpy."
   ]
  },
  {
   "cell_type": "code",
   "execution_count": null,
   "metadata": {},
   "outputs": [],
   "source": [
    "# Load example dataset\n",
    "movie = hs.load(\"examplesequence.tif\")\n",
    "\n",
    "# Truncate to 25 frames, and plot the result\n",
    "movie = movie.inav[:25]\n",
    "movie.plot(navigator='slider')"
   ]
  },
  {
   "cell_type": "markdown",
   "metadata": {},
   "source": [
    "Now we corrupt the movie with using a noise generator for mixed Poisson-Gaussian noise, according to the equation:\n",
    "<img src=\"mixed_noise_figure.png\">\n",
    "where the parameters are defined as:\n",
    "```\n",
    "alpha = detector gain\n",
    "mu = detector offset\n",
    "sigma = detector noise\n",
    "```"
   ]
  },
  {
   "cell_type": "code",
   "execution_count": null,
   "metadata": {},
   "outputs": [],
   "source": [
    "# Detector gain\n",
    "detector_gain = 0.1\n",
    "# Detector offset\n",
    "detector_offset = 0.1\n",
    "# Detector noise\n",
    "detector_sigma = 0.1\n",
    "\n",
    "noisy = PoissonGaussianNoiseGenerator(movie._data_aligned_with_axes,\n",
    "                                      alpha=detector_gain,\n",
    "                                      mu=detector_offset,\n",
    "                                      sigma=detector_sigma)\n",
    "noisy_movie = hs.signals.Image(noisy)\n",
    "noisy_movie.plot(navigator='slider')"
   ]
  },
  {
   "cell_type": "markdown",
   "metadata": {},
   "source": [
    "Next we initialise the SVT denoising function. The full list of options (with default values) is:\n",
    "\n",
    "```\n",
    "hspysvt.HSPYSVT(patchsize=4,\n",
    "                patchoverlap=1,\n",
    "                length=15,\n",
    "                optimize=True,\n",
    "                threshold=0.5,\n",
    "                estimatenoise=True,\n",
    "                alpha=-1., \n",
    "                mu=-1., \n",
    "                sigma=-1.,                \n",
    "                arpssize=7, \n",
    "                tol=1e-7,\n",
    "                median=5,\n",
    "                hotpixelthreshold=10,\n",
    "                numthreads=1)\n",
    "```\n",
    "\n",
    "In this example we do not use the noise estimation procedure, and instead provide the known parameters to the algorithm directly. This information is used by the PGURE optimizer to calculate the threshold.\n",
    "\n",
    "*Note:* If you have a multicore machine, you can set `numthreads > 1` to speed up the calculation."
   ]
  },
  {
   "cell_type": "code",
   "execution_count": null,
   "metadata": {},
   "outputs": [],
   "source": [
    "# Initialize with suggested parameters\n",
    "svt = hspysvt.HSPYSVT(patchsize=4,\n",
    "                      estimatenoise=False,\n",
    "                      alpha=detector_gain,\n",
    "                      mu=detector_offset,\n",
    "                      sigma=detector_sigma,\n",
    "                      tol=1e-5,\n",
    "                      numthreads=2)"
   ]
  },
  {
   "cell_type": "markdown",
   "metadata": {},
   "source": [
    "Now we are able to run the denoising and plot the result:"
   ]
  },
  {
   "cell_type": "code",
   "execution_count": null,
   "metadata": {},
   "outputs": [],
   "source": [
    "# Run the denoising\n",
    "denoised_movie = svt.denoise(noisy_movie)\n",
    "\n",
    "# Plot denoised data\n",
    "denoised_movie.plot(navigator='slider')"
   ]
  },
  {
   "cell_type": "markdown",
   "metadata": {},
   "source": [
    "## 2. Time-resolved ADF-STEM image sequence\n",
    "\n",
    "In this example we apply PGURE-SVT to an experimental dataset of a nanoparticle acquired using ADF-STEM. This image sequence contains 51 frames at a rate of 4 frames per second. The results of this denoising are shown in Fig. 11 of [the paper](http://dx.doi.org/10.1016/j.ultramic.2016.05.005).\n",
    "\n",
    "For larger images, such as the 256x256 pixels here, you can use the `patchoverlap` parameter to control the trade-off between speed and accuracy of the denoising procedure. This reduces the number of patches the algorithm works with, at the expense of introducing possible edge artefacts between patches.\n",
    "\n",
    "For the experimental sequence, the detector offset (`mu`) was known beforehand, so a noise estimation procedure is used for the other values."
   ]
  },
  {
   "cell_type": "code",
   "execution_count": null,
   "metadata": {},
   "outputs": [],
   "source": [
    "# Load example dataset and plot\n",
    "expt_movie = hs.load(\"experimentalsequence-NP.tif)\n",
    "expt_movie.plot(navigator='slider')\n",
    "\n",
    "# Initialize with suggested parameters, optimized for speed\n",
    "expt_svt = hspysvt.HSPYSVT(patchsize=4,\n",
    "                           patchoverlap=2,\n",
    "                           mu=0.075,\n",
    "                           numthreads=2)\n",
    "\n",
    "# Run the denoising\n",
    "denoised_movie = expt_svt.denoise(expt_movie)\n",
    "\n",
    "# Plot denoised data\n",
    "denoised_movie.plot(navigator='slider')"
   ]
  },
  {
   "cell_type": "markdown",
   "metadata": {},
   "source": [
    "The parameters used to generate Fig. 11 in the paper are below. Note that using these values can be _slow_, taking ~30 seconds per frame.\n",
    "```\n",
    "expt_svt = hspysvt.HSPYSVT(patchsize=4,\n",
    "                           patchoverlap=1,\n",
    "                           mu=0.075,\n",
    "                           tol=1e-8,\n",
    "                           arpssize=11,\n",
    "                           numthreads=4)\n",
    "```"
   ]
  }
 ],
 "metadata": {
  "kernelspec": {
   "display_name": "Python 3",
   "language": "python",
   "name": "python3"
  },
  "language_info": {
   "codemirror_mode": {
    "name": "ipython",
    "version": 3
   },
   "file_extension": ".py",
   "mimetype": "text/x-python",
   "name": "python",
   "nbconvert_exporter": "python",
   "pygments_lexer": "ipython3",
   "version": "3.5.1"
  }
 },
 "nbformat": 4,
 "nbformat_minor": 0
}
